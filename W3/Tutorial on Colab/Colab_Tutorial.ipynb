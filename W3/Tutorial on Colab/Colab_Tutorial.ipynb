{
  "nbformat": 4,
  "nbformat_minor": 0,
  "metadata": {
    "colab": {
      "provenance": []
    },
    "kernelspec": {
      "name": "python3",
      "display_name": "Python 3"
    }
  },
  "cells": [
    {
      "cell_type": "markdown",
      "source": [
        "**What is Colaboratory?**\n",
        "\n",
        "Colaboratory, or \"Colab\" for short, allows you to write and execute Python in your browser, with\n",
        "- Zero configuration required\n",
        "- Free access to GPUs\n",
        "- Easy sharing\n",
        "\n",
        "Whether you're a **student**, a **data scientist** or an **AI researcher**, Colab can make your work easier. Watch [Introduction to Colab](https://www.youtube.com/watch?v=inN8seMm7UI) to learn more, or just get started below!\n",
        "\n",
        "You can type python code in the code block, or use a leading exclamation mark ! to change the code block to bash environment to execute linux code."
      ],
      "metadata": {
        "id": "j8PHayGetiCp"
      }
    },
    {
      "cell_type": "markdown",
      "source": [
        "To utilize the free GPU provided by Google, click on \"Runtime\" -> \"Change Runtime Type\". There are three options under \"Hardware Accelerator\"; select \"T4 GPU\".\n",
        "* Doing this will restart the session, so make sure you change to the desired runtime before executing any code."
      ],
      "metadata": {
        "id": "TMRrGm_euADM"
      }
    },
    {
      "cell_type": "code",
      "execution_count": null,
      "metadata": {
        "colab": {
          "base_uri": "https://localhost:8080/"
        },
        "id": "sXnDmXR7RDr2",
        "outputId": "5bc88649-a1fb-4e55-9973-8b2c8bcc5029"
      },
      "outputs": [
        {
          "output_type": "stream",
          "name": "stdout",
          "text": [
            "Found GPU at: /device:GPU:0\n"
          ]
        }
      ],
      "source": [
        "import tensorflow as tf\n",
        "device_name = tf.test.gpu_device_name()\n",
        "if device_name != '/device:GPU:0':\n",
        "  raise SystemError('GPU device not found')\n",
        "print('Found GPU at: {}'.format(device_name))"
      ]
    },
    {
      "cell_type": "markdown",
      "metadata": {
        "id": "k_gmTo9NKtu9"
      },
      "source": [
        "**Mounting Google Drive**\n",
        "\n",
        "  One advantage of using google colab is that connection with other google services such as Google Drive is simple. By mounting google drive, the working files can be stored permanantly. After executing the following code block, log in to the google account and copy the authentication code to the input box to finish the process."
      ]
    },
    {
      "cell_type": "code",
      "metadata": {
        "id": "ImETTQKkL2l4",
        "outputId": "6af45bce-b5e8-4fd1-fa62-3a49c8faa86e",
        "colab": {
          "base_uri": "https://localhost:8080/"
        }
      },
      "source": [
        "from google.colab import drive # Import a library named google.colab\n",
        "drive.mount('/content/gdrive', force_remount=True) # mount the content to the directory `/content/gdrive`"
      ],
      "execution_count": null,
      "outputs": [
        {
          "output_type": "stream",
          "name": "stdout",
          "text": [
            "Mounted at /content/gdrive\n"
          ]
        }
      ]
    },
    {
      "cell_type": "code",
      "metadata": {
        "id": "BmvzTF5IJ6TL",
        "outputId": "a219f21e-a28d-4ccd-8869-d348dc645d30",
        "colab": {
          "base_uri": "https://localhost:8080/"
        }
      },
      "source": [
        "from google.colab import drive\n",
        "drive.mount('/content/gdrive')"
      ],
      "execution_count": null,
      "outputs": [
        {
          "output_type": "stream",
          "name": "stdout",
          "text": [
            "Drive already mounted at /content/gdrive; to attempt to forcibly remount, call drive.mount(\"/content/gdrive\", force_remount=True).\n"
          ]
        }
      ]
    },
    {
      "cell_type": "markdown",
      "metadata": {
        "id": "AkmayCmGMD03"
      },
      "source": [
        "After mounting the drive, the content of the google drive will be under a directory named `MyDrive`, check the file structure for such a folder to confirm the execution of the code."
      ]
    },
    {
      "cell_type": "markdown",
      "metadata": {
        "id": "kDrO_DjBMW5D"
      },
      "source": [
        "There is also an icon for mounting google drive. The icon will automatically generate the code above.\n",
        "\n",
        "  \n"
      ]
    },
    {
      "cell_type": "markdown",
      "source": [
        "**Directory Changing**"
      ],
      "metadata": {
        "id": "XB7_JE3RrehY"
      }
    },
    {
      "cell_type": "code",
      "metadata": {
        "id": "UT0TEPRS7KF6"
      },
      "source": [
        "%cd /content/drive/MyDrive\n",
        "#change directory to google drive\n",
        "!mkdir ML2024 #make a directory named ML2021\n",
        "%cd ./ML2024\n",
        "#change directory to ML2021"
      ],
      "execution_count": null,
      "outputs": []
    },
    {
      "cell_type": "markdown",
      "metadata": {
        "id": "Oj13Q58QerAx"
      },
      "source": [
        "Use bash command pwd to output the current directory"
      ]
    },
    {
      "cell_type": "code",
      "metadata": {
        "id": "-S8l1-ReepkS"
      },
      "source": [
        "!pwd #output the current directory"
      ],
      "execution_count": null,
      "outputs": []
    },
    {
      "cell_type": "markdown",
      "metadata": {
        "id": "qSSvrDaBiDrP"
      },
      "source": [
        "Use the bash command ls to output the all directory."
      ]
    },
    {
      "cell_type": "code",
      "metadata": {
        "id": "b39YMYicASvP"
      },
      "source": [
        "# List all the files under the working directory\n",
        "!ls"
      ],
      "execution_count": null,
      "outputs": []
    }
  ]
}